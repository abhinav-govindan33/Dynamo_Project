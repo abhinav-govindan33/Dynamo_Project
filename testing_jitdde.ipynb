{
 "cells": [
  {
   "cell_type": "code",
   "execution_count": 7,
   "metadata": {},
   "outputs": [
    {
     "name": "stderr",
     "output_type": "stream",
     "text": [
      "Exception ignored in: <finalize object at 0x1c3c93374e0; dead>\n",
      "Traceback (most recent call last):\n",
      "  File \"c:\\Python310\\lib\\weakref.py\", line 591, in __call__\n",
      "    return info.func(*info.args, **(info.kwargs or {}))\n",
      "  File \"c:\\Python310\\lib\\tempfile.py\", line 859, in _cleanup\n",
      "    cls._rmtree(name, ignore_errors=ignore_errors)\n",
      "  File \"c:\\Python310\\lib\\tempfile.py\", line 855, in _rmtree\n",
      "    _shutil.rmtree(name, onerror=onerror)\n",
      "  File \"c:\\Python310\\lib\\shutil.py\", line 749, in rmtree\n",
      "    return _rmtree_unsafe(path, onerror)\n",
      "  File \"c:\\Python310\\lib\\shutil.py\", line 619, in _rmtree_unsafe\n",
      "    onerror(os.unlink, fullname, sys.exc_info())\n",
      "  File \"c:\\Python310\\lib\\tempfile.py\", line 846, in onerror\n",
      "    cls._rmtree(path, ignore_errors=ignore_errors)\n",
      "  File \"c:\\Python310\\lib\\tempfile.py\", line 855, in _rmtree\n",
      "    _shutil.rmtree(name, onerror=onerror)\n",
      "  File \"c:\\Python310\\lib\\shutil.py\", line 749, in rmtree\n",
      "    return _rmtree_unsafe(path, onerror)\n",
      "  File \"c:\\Python310\\lib\\shutil.py\", line 600, in _rmtree_unsafe\n",
      "    onerror(os.scandir, path, sys.exc_info())\n",
      "  File \"c:\\Python310\\lib\\shutil.py\", line 597, in _rmtree_unsafe\n",
      "    with os.scandir(path) as scandir_it:\n",
      "NotADirectoryError: [WinError 267] The directory name is invalid: 'C:\\\\Users\\\\abhin\\\\AppData\\\\Local\\\\Temp\\\\jitcxde_gkxoff17\\\\jitced_2.cp310-win_amd64.pyd'\n",
      "Exception ignored in: <finalize object at 0x1c3f35265a0; dead>\n",
      "Traceback (most recent call last):\n",
      "  File \"c:\\Python310\\lib\\weakref.py\", line 591, in __call__\n",
      "    return info.func(*info.args, **(info.kwargs or {}))\n",
      "  File \"c:\\Python310\\lib\\tempfile.py\", line 859, in _cleanup\n",
      "    cls._rmtree(name, ignore_errors=ignore_errors)\n",
      "  File \"c:\\Python310\\lib\\tempfile.py\", line 855, in _rmtree\n",
      "    _shutil.rmtree(name, onerror=onerror)\n",
      "  File \"c:\\Python310\\lib\\shutil.py\", line 749, in rmtree\n",
      "    return _rmtree_unsafe(path, onerror)\n",
      "  File \"c:\\Python310\\lib\\shutil.py\", line 619, in _rmtree_unsafe\n",
      "    onerror(os.unlink, fullname, sys.exc_info())\n",
      "  File \"c:\\Python310\\lib\\tempfile.py\", line 846, in onerror\n",
      "    cls._rmtree(path, ignore_errors=ignore_errors)\n",
      "  File \"c:\\Python310\\lib\\tempfile.py\", line 855, in _rmtree\n",
      "    _shutil.rmtree(name, onerror=onerror)\n",
      "  File \"c:\\Python310\\lib\\shutil.py\", line 749, in rmtree\n",
      "    return _rmtree_unsafe(path, onerror)\n",
      "  File \"c:\\Python310\\lib\\shutil.py\", line 600, in _rmtree_unsafe\n",
      "    onerror(os.scandir, path, sys.exc_info())\n",
      "  File \"c:\\Python310\\lib\\shutil.py\", line 597, in _rmtree_unsafe\n",
      "    with os.scandir(path) as scandir_it:\n",
      "NotADirectoryError: [WinError 267] The directory name is invalid: 'C:\\\\Users\\\\abhin\\\\AppData\\\\Local\\\\Temp\\\\jitcxde_boyhi10l\\\\jitced_3.cp310-win_amd64.pyd'\n",
      "Exception ignored in: <finalize object at 0x1c3f34f4100; dead>\n",
      "Traceback (most recent call last):\n",
      "  File \"c:\\Python310\\lib\\weakref.py\", line 591, in __call__\n",
      "    return info.func(*info.args, **(info.kwargs or {}))\n",
      "  File \"c:\\Python310\\lib\\tempfile.py\", line 859, in _cleanup\n",
      "    cls._rmtree(name, ignore_errors=ignore_errors)\n",
      "  File \"c:\\Python310\\lib\\tempfile.py\", line 855, in _rmtree\n",
      "    _shutil.rmtree(name, onerror=onerror)\n",
      "  File \"c:\\Python310\\lib\\shutil.py\", line 749, in rmtree\n",
      "    return _rmtree_unsafe(path, onerror)\n",
      "  File \"c:\\Python310\\lib\\shutil.py\", line 619, in _rmtree_unsafe\n",
      "    onerror(os.unlink, fullname, sys.exc_info())\n",
      "  File \"c:\\Python310\\lib\\tempfile.py\", line 846, in onerror\n",
      "    cls._rmtree(path, ignore_errors=ignore_errors)\n",
      "  File \"c:\\Python310\\lib\\tempfile.py\", line 855, in _rmtree\n",
      "    _shutil.rmtree(name, onerror=onerror)\n",
      "  File \"c:\\Python310\\lib\\shutil.py\", line 749, in rmtree\n",
      "    return _rmtree_unsafe(path, onerror)\n",
      "  File \"c:\\Python310\\lib\\shutil.py\", line 600, in _rmtree_unsafe\n",
      "    onerror(os.scandir, path, sys.exc_info())\n",
      "  File \"c:\\Python310\\lib\\shutil.py\", line 597, in _rmtree_unsafe\n",
      "    with os.scandir(path) as scandir_it:\n",
      "NotADirectoryError: [WinError 267] The directory name is invalid: 'C:\\\\Users\\\\abhin\\\\AppData\\\\Local\\\\Temp\\\\jitcxde_1alalso9\\\\jitced_4.cp310-win_amd64.pyd'\n",
      "c:\\Python310\\lib\\site-packages\\jitcxde_common\\_jitcxde.py:366: UserWarning: Could not delete temporary directory because of the following error:\n",
      "[WinError 267] The directory name is invalid: 'C:\\\\Users\\\\abhin\\\\AppData\\\\Local\\\\Temp\\\\jitcxde_gkxoff17\\\\jitced_2.cp310-win_amd64.pyd'\n",
      "  warn(f\"Could not delete temporary directory because of the following error:\\n{error}\")\n",
      "c:\\Python310\\lib\\site-packages\\jitcxde_common\\_jitcxde.py:366: UserWarning: Could not delete temporary directory because of the following error:\n",
      "[WinError 267] The directory name is invalid: 'C:\\\\Users\\\\abhin\\\\AppData\\\\Local\\\\Temp\\\\jitcxde_boyhi10l\\\\jitced_3.cp310-win_amd64.pyd'\n",
      "  warn(f\"Could not delete temporary directory because of the following error:\\n{error}\")\n",
      "c:\\Python310\\lib\\site-packages\\jitcxde_common\\_jitcxde.py:366: UserWarning: Could not delete temporary directory because of the following error:\n",
      "[WinError 267] The directory name is invalid: 'C:\\\\Users\\\\abhin\\\\AppData\\\\Local\\\\Temp\\\\jitcxde_1alalso9\\\\jitced_4.cp310-win_amd64.pyd'\n",
      "  warn(f\"Could not delete temporary directory because of the following error:\\n{error}\")\n"
     ]
    },
    {
     "name": "stdout",
     "output_type": "stream",
     "text": [
      "1995.8134892981295\n"
     ]
    },
    {
     "data": {
      "image/png": "[encoded data removed]",
      "text/plain": [
       "<Figure size 640x480 with 1 Axes>"
      ]
     },
     "metadata": {},
     "output_type": "display_data"
    }
   ],
   "source": [
    "from jitcdde import jitcdde, y, t\n",
    "import numpy\n",
    "import matplotlib.pyplot as plt \n",
    "\n",
    "τ = 15\n",
    "n = 10\n",
    "β = 0.25\n",
    "γ = 0.1\n",
    "\n",
    "f = [ β * y(0,t-τ) / (1 + y(0,t-τ)**n) - γ*y(0) ]\n",
    "DDE = jitcdde(f,verbose=False)\n",
    "\n",
    "DDE.constant_past([1.0])\n",
    "\n",
    "DDE.step_on_discontinuities()\n",
    "\n",
    "for time in numpy.arange(DDE.t, DDE.t+1000, 10):\n",
    "\tplt.plot( time, *DDE.integrate(time) )\n",
    "\n",
    "\n",
    "DDE.jump(1,DDE.t)\n",
    "\n",
    "for time in numpy.arange(DDE.t, DDE.t+1000, 10):\n",
    "\tplt.plot( time, *DDE.integrate(time) )\n",
    "\n",
    "print(DDE.t)"
   ]
  }
 ],
 "metadata": {
  "kernelspec": {
   "display_name": "base",
   "language": "python",
   "name": "python3"
  },
  "language_info": {
   "codemirror_mode": {
    "name": "ipython",
    "version": 3
   },
   "file_extension": ".py",
   "mimetype": "text/x-python",
   "name": "python",
   "nbconvert_exporter": "python",
   "pygments_lexer": "ipython3",
   "version": "3.10.7"
  },
  "orig_nbformat": 4
 },
 "nbformat": 4,
 "nbformat_minor": 2
}
